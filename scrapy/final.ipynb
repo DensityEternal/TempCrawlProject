{
 "cells": [
  {
   "cell_type": "code",
   "execution_count": 3,
   "outputs": [],
   "source": [
    "from urllib.request import Request, urlopen\n",
    "from bs4 import BeautifulSoup\n",
    "import requests\n",
    "import json\n",
    "import re\n",
    "\n",
    "class CET4Downloader:\n",
    "    @staticmethod\n",
    "    def reverse(data):\n",
    "        # 解析JSON数据\n",
    "        parsed_data = json.loads(data[0])\n",
    "        # 提取f1和f2的元素并反向连接\n",
    "        f1_elements = parsed_data['f1']\n",
    "        f2_elements = parsed_data['f2']\n",
    "        # 反向连接f1和f2的元素\n",
    "        reversed_string = ''.join(f2_elements[::-1] + f1_elements[::-1])\n",
    "        return reversed_string\n",
    "\n",
    "    @staticmethod\n",
    "    def download_cet4_files():\n",
    "        url = 'https://zhenti.burningvocabulary.com/cet4'\n",
    "        head = {'user-agent': 'Bilzzard'}\n",
    "        html = urlopen(url)\n",
    "        bs = BeautifulSoup(html, 'html.parser')\n",
    "        ID = []\n",
    "        urlList = []\n",
    "        nameList = []\n",
    "        pdfUrl = []\n",
    "        MP3Url = []\n",
    "\n",
    "        for web_url in bs.find_all('a', {'class': 'link-primary'}):\n",
    "            W = 'https://zhenti.burningvocabulary.com' + web_url.attrs['href']\n",
    "            urlList.append(W)\n",
    "            h = urlopen(Request(W, headers=head))\n",
    "            bs = BeautifulSoup(h, 'html.parser')\n",
    "            nameList.append(bs.find('meta', {'name': 'twitter:title'}).attrs['content'])\n",
    "            response = requests.get(W, headers=head)\n",
    "            data = re.findall('\"fn\":(\\{\"f1\":\\[.*?\\],\"f2\":\\[.*?\\]\\}),', response.text)\n",
    "            ID.append(CET4Downloader.reverse(data))\n",
    "            pdfUrl.append(\"https://zhenti-res.youshaohua.com/images/read\" + web_url.attrs['href']+'/'+CET4Downloader.reverse(data)+'.pdf')\n",
    "            try:\n",
    "                MP3Url.append(\"https://zhenti-res.youshaohua.com/images/read\"+web_url.attrs['href']+'/'+CET4Downloader.reverse(data)+'.mp3')\n",
    "            except IndexError:\n",
    "                pass\n",
    "\n",
    "        for i in range(len(ID)):\n",
    "            pdf_response = requests.get(url=pdfUrl[i], headers={\"User-Agent\": \"Mozilla/5.0 (Windows NT 10.0; Win64; x64) AppleWebKit/537.36 (KHTML, like Gecko) Chrome/107.0.0.0 Safari/537.36\"})\n",
    "            with open(\"CET4/\"+f'{nameList[i]}.pdf','wb')as  f:\n",
    "                f.write(pdf_response.content)\n",
    "\n",
    "        for i in range(len(MP3Url)):\n",
    "            mp3_response = requests.get(url=MP3Url[i], headers={\"User-Agent\": \"Mozilla/5.0 (Windows NT 10.0; Win64; x64) AppleWebKit/537.36 (KHTML, like Gecko) Chrome/107.0.0.0 Safari/537.36\"})\n",
    "            with open(\"CET4/MP3/\"+f'{nameList[i]}.mp3','wb')as  f:\n",
    "                f.write(mp3_response.content)\n",
    "cet=CET4Downloader()\n",
    "cet.download_cet4_files()\n"
   ],
   "metadata": {
    "collapsed": false,
    "ExecuteTime": {
     "end_time": "2023-09-09T03:06:57.229085Z",
     "start_time": "2023-09-09T03:04:05.157029800Z"
    }
   },
   "id": "7f7285b83d919d7e"
  }
 ],
 "metadata": {
  "kernelspec": {
   "display_name": "Python 3",
   "language": "python",
   "name": "python3"
  },
  "language_info": {
   "codemirror_mode": {
    "name": "ipython",
    "version": 2
   },
   "file_extension": ".py",
   "mimetype": "text/x-python",
   "name": "python",
   "nbconvert_exporter": "python",
   "pygments_lexer": "ipython2",
   "version": "2.7.6"
  }
 },
 "nbformat": 4,
 "nbformat_minor": 5
}
