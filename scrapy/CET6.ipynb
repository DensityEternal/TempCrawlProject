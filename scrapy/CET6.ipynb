{
 "cells": [
  {
   "cell_type": "code",
   "execution_count": 1,
   "outputs": [
    {
     "name": "stdout",
     "output_type": "stream",
     "text": [
      "['{\"f1\":[\"3\",\"5\",\"7\",\"1\",\"5\",\"8\",\"7\",\"a\",\"e\",\"6\"],\"f2\":[\"5\",\"3\",\"8\",\"7\",\"f\",\"b\",\"d\",\"f\",\"2\",\"1\",\"1\",\"f\",\"b\",\"2\",\"5\",\"9\",\"9\",\"9\",\"a\",\"6\",\"2\",\"5\"]}']\n"
     ]
    }
   ],
   "source": [
    "from urllib.request import Request, urlopen\n",
    "from bs4 import BeautifulSoup\n",
    "import requests\n",
    "import json\n",
    "import re\n",
    "\n",
    "class CET6Downloader:\n",
    "    @staticmethod\n",
    "    def reverse(data):\n",
    "        # 解析JSON数据\n",
    "        parsed_data = json.loads(data[0])\n",
    "        # 提取f1和f2的元素并反向连接\n",
    "        f1_elements = parsed_data['f1']\n",
    "        f2_elements = parsed_data['f2']\n",
    "        # 反向连接f1和f2的元素\n",
    "        reversed_string = ''.join(f2_elements[::-1] + f1_elements[::-1])\n",
    "        return reversed_string\n",
    "\n",
    "    @staticmethod\n",
    "    def download_cet6_files():\n",
    "        url = 'https://zhenti.burningvocabulary.com/cet6'\n",
    "        head = {'user-agent': 'Bilzzard'}\n",
    "        html = urlopen(url)\n",
    "        bs = BeautifulSoup(html, 'html.parser')\n",
    "        ID = []\n",
    "        urlList = []\n",
    "        nameList = []\n",
    "        pdfUrl = []\n",
    "        MP3Url = []\n",
    "\n",
    "        for web_url in bs.find_all('a', {'class': 'link-primary'}):\n",
    "            W = 'https://zhenti.burningvocabulary.com' + web_url.attrs['href']\n",
    "            urlList.append(W)\n",
    "            h = urlopen(Request(W, headers=head))\n",
    "            bs = BeautifulSoup(h, 'html.parser')\n",
    "            nameList.append(bs.find('meta', {'name': 'twitter:title'}).attrs['content'])\n",
    "            response = requests.get(W, headers=head)\n",
    "            data = re.findall('\"fn\":(\\{\"f1\":\\[.*?\\],\"f2\":\\[.*?\\]\\}),', response.text)\n",
    "            ID.append(CET6Downloader.reverse(data))\n",
    "            pdfUrl.append(\"https://zhenti-res.youshaohua.com/images/read\" + web_url.attrs['href']+'/'+CET6Downloader.reverse(data)+'.pdf')\n",
    "            try:\n",
    "                MP3Url.append(\"https://zhenti-res.youshaohua.com/images/read\"+web_url.attrs['href']+'/'+CET6Downloader.reverse(data)+'.mp3')\n",
    "            except IndexError:\n",
    "                pass\n",
    "\n",
    "        for i in range(len(ID)):\n",
    "            pdf_response = requests.get(url=pdfUrl[i], headers={\"User-Agent\": \"Mozilla/5.0 (Windows NT 10.0; Win64; x64) AppleWebKit/537.36 (KHTML, like Gecko) Chrome/107.0.0.0 Safari/537.36\"})\n",
    "            with open(\"CET6/\"+f'{nameList[i]}.pdf','wb')as  f:\n",
    "                f.write(pdf_response.content)\n",
    "\n",
    "        for i in range(len(MP3Url)):\n",
    "            mp3_response = requests.get(url=MP3Url[i], headers={\"User-Agent\": \"Mozilla/5.0 (Windows NT 10.0; Win64; x64) AppleWebKit/537.36 (KHTML, like Gecko) Chrome/107.0.0.0 Safari/537.36\"})\n",
    "            with open(\"CET6/MP3/\"+f'{nameList[i]}.mp3','wb')as  f:\n",
    "                f.write(mp3_response.content)\n",
    "cet=CET6Downloader()\n",
    "cet.download_cet6_files()\n"
   ],
   "metadata": {
    "collapsed": false,
    "ExecuteTime": {
     "end_time": "2023-09-05T05:59:51.216115700Z",
     "start_time": "2023-09-05T05:59:50.292635100Z"
    }
   }
  },
  {
   "cell_type": "markdown",
   "source": [
    "https://zhenti-res.youshaohua.com/images/read/cet6/2023-06/02/526a99952bf112fdbf78356ea7851753.pdf"
   ],
   "metadata": {
    "collapsed": false
   }
  }
 ],
 "metadata": {
  "kernelspec": {
   "display_name": "Python 3",
   "language": "python",
   "name": "python3"
  },
  "language_info": {
   "codemirror_mode": {
    "name": "ipython",
    "version": 2
   },
   "file_extension": ".py",
   "mimetype": "text/x-python",
   "name": "python",
   "nbconvert_exporter": "python",
   "pygments_lexer": "ipython2",
   "version": "2.7.6"
  }
 },
 "nbformat": 4,
 "nbformat_minor": 0
}
