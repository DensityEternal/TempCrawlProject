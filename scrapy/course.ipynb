{
 "cells": [
  {
   "cell_type": "code",
   "execution_count": 1,
   "outputs": [],
   "source": [
    "import datetime\n",
    "import random\n",
    "import re\n",
    "import time\n",
    "from urllib.request import urlopen, Request\n",
    "import openpyxl\n",
    "import requests\n",
    "from bs4 import BeautifulSoup\n",
    "\n",
    "header = {'User-Agent':\n",
    "              'Mozilla'}\n",
    "web_url = r'https://www.imooc.com'\n",
    "random.seed(datetime.datetime.now().timestamp())\n",
    "\n",
    "def getLinks(bs):\n",
    "    return bs.find('div', {'class': 'course-list'}).find_all(lambda tag: len(tag.attrs) == 6)\n",
    "\n",
    "\n",
    "def cover(bs):\n",
    "    random.seed(datetime.datetime.now().timestamp())\n",
    "    cover = bs.findAll('div', {'class': 'img'})\n",
    "    for c in cover:\n",
    "        # print(type(c['style']))\n",
    "        U = re.search(r\"url\\('?(.*?)'?\\)\", c['style']).group(1)\n",
    "        # print(U.split('/')[-1])\n",
    "        response = requests.get('https:' + U, header)\n",
    "        time.sleep(random.random())\n",
    "        filename = \"D:\\\\Developer environment\\\\Study\\\\scrapy\\\\scrapyImage\\\\\" + U.split('/')[-1]\n",
    "        # urlretrieve('https:' + U,filename) \"\"\"这也可以下载图片urlretrive(url,filename)\"\"\"\n",
    "        # print(filename)\n",
    "        with open(filename, 'wb') as f:\n",
    "            f.write(response.content)"
   ],
   "metadata": {
    "collapsed": false,
    "ExecuteTime": {
     "end_time": "2023-08-19T08:11:11.221954400Z",
     "start_time": "2023-08-19T08:11:09.931693700Z"
    }
   },
   "id": "5d3314b7bf453996"
  },
  {
   "cell_type": "markdown",
   "source": [
    "获取外链并爬取每一页的课程图片"
   ],
   "metadata": {
    "collapsed": false
   },
   "id": "811cb9b9feee72ac"
  },
  {
   "cell_type": "code",
   "execution_count": 2,
   "outputs": [
    {
     "name": "stdout",
     "output_type": "stream",
     "text": [
      "externalUrl size is 160.\n",
      "externalUrl scrapy is Done!\n"
     ]
    }
   ],
   "source": [
    "externalUrl = []\n",
    "try:\n",
    "    for i in range(1, 5):\n",
    "        W = web_url + '/course/list?ct=1&page=' + str(i)\n",
    "        req = Request(W, headers=header)\n",
    "        bs = BeautifulSoup(urlopen(req), 'html.parser')\n",
    "        links = getLinks(bs)\n",
    "        cover(bs)\n",
    "\n",
    "        for i in range(40):\n",
    "            newArticle = links[random.randint(0, len(links) - 1)].attrs['href']\n",
    "            externalUrl.append('http:' + newArticle)\n",
    "except AttributeError:\n",
    "    pass\n",
    "print(f'externalUrl size is {len(externalUrl)}.')\n",
    "print('externalUrl scrapy is Done!')"
   ],
   "metadata": {
    "collapsed": false,
    "ExecuteTime": {
     "end_time": "2023-08-19T08:13:46.632459200Z",
     "start_time": "2023-08-19T08:11:20.534598900Z"
    }
   },
   "id": "1e5cae2029633ca4"
  },
  {
   "cell_type": "code",
   "execution_count": 3,
   "outputs": [
    {
     "name": "stdout",
     "output_type": "stream",
     "text": [
      "http://coding.imooc.com/class/82.html\n"
     ]
    }
   ],
   "source": [
    "\n",
    "\n",
    "def name(bs):\n",
    "    try:\n",
    "\n",
    "        name = bs.find('div', {'class': 'hd clearfix'}).text.strip()\n",
    "\n",
    "    except:\n",
    "        name = bs.find('div', {'class': 'path'}).find('span').getText()\n",
    "    return name\n",
    "\n",
    "\n",
    "def time(bs):\n",
    "    try:\n",
    "        time = bs.find('div', {'class': 'info-bar clearfix'}).findAll('span', {'class': 'nodistance'})[1].text\n",
    "    except AttributeError:\n",
    "        # print('Error')\n",
    "\n",
    "        time = bs.findAll('span', {'class': 'meta-value'})[1].text\n",
    "        # print(f'time is {time}')\n",
    "    return time\n",
    "\n",
    "\n",
    "def teacher(bs):\n",
    "    try:\n",
    "        teacher = bs.find('div', {'class': 'nickname'}).get_text()\n",
    "    except:\n",
    "        # print('Error!')\n",
    "\n",
    "        teacher = bs.find('span', {'class': 'tit'}).find('a').text\n",
    "        # print(f'teacher is {teacher}!')\n",
    "    return teacher\n",
    "\n",
    "\n",
    "def introduction(bs):\n",
    "    try:\n",
    "        introduction = bs.find('div', {'class': 'dec-box'}).get_text()\n",
    "    except:\n",
    "        # print('Error')\n",
    "        introduction = bs.find('div', {\"class\": \"course-description course-wrap\"}).text\n",
    "        # print(f'introduction is {introduction}!')\n",
    "    return introduction\n",
    "\n",
    "\n",
    "def price(bs):\n",
    "    try:\n",
    "        price = bs.find('div', {'class': 'ori-price l'}).get_text().split()[0]\n",
    "    except:\n",
    "        price = '0'\n",
    "    return price\n",
    "\n",
    "\n",
    "def address(external_url):\n",
    "    return external_url\n",
    "\n",
    "\n",
    "workbook = openpyxl.Workbook()\n",
    "worksheet = workbook.active\n",
    "def writeDown(b, e, i):\n",
    "\n",
    "\n",
    "    worksheet.cell(row=1, column=1, value=\"name\")\n",
    "    worksheet.cell(row=1, column=2, value=\"time\")\n",
    "    worksheet.cell(row=1, column=3, value=\"teacher\")\n",
    "    worksheet.cell(row=1, column=4, value=\"introduction\")\n",
    "    worksheet.cell(row=1, column=5, value=\"price\")\n",
    "    worksheet.cell(row=1, column=6, value=\"address\")\n",
    "    # print('begin')\n",
    "    # print(f'name is {name(b)}')\n",
    "    # print(f'time is {time(b)}')\n",
    "    # print(f'teacher is {teacher(b)}')\n",
    "    # print(f'introduction is {introduction(b)}')\n",
    "    # print(f'price is {price(b)}')\n",
    "    # print(f'address is {address(e)}')\n",
    "    # print('done')\n",
    "    worksheet.cell(row=i, column=1, value=name(b))\n",
    "    worksheet.cell(row=i, column=2, value=time(b))\n",
    "    worksheet.cell(row=i, column=3, value=teacher(b))\n",
    "    worksheet.cell(row=i, column=4, value=introduction(b).strip())\n",
    "    worksheet.cell(row=i, column=5, value=price(b))\n",
    "    worksheet.cell(row=i, column=6, value=address(e))\n",
    "\n",
    "\n",
    "\n",
    "print(externalUrl[1])\n",
    "i = 2\n",
    "for ext in externalUrl:\n",
    "    html = urlopen(ext)\n",
    "    bs = BeautifulSoup(html, 'html.parser')\n",
    "    writeDown(bs, ext, i)\n",
    "    i += 1\n",
    "workbook.save(\"imooc.xlsx\")"
   ],
   "metadata": {
    "collapsed": false,
    "ExecuteTime": {
     "end_time": "2023-08-19T08:15:57.946371900Z",
     "start_time": "2023-08-19T08:13:55.094557200Z"
    }
   },
   "id": "e4766e4919c51e35"
  }
 ],
 "metadata": {
  "kernelspec": {
   "display_name": "Python 3",
   "language": "python",
   "name": "python3"
  },
  "language_info": {
   "codemirror_mode": {
    "name": "ipython",
    "version": 2
   },
   "file_extension": ".py",
   "mimetype": "text/x-python",
   "name": "python",
   "nbconvert_exporter": "python",
   "pygments_lexer": "ipython2",
   "version": "2.7.6"
  }
 },
 "nbformat": 4,
 "nbformat_minor": 5
}
