{
 "cells": [
  {
   "cell_type": "code",
   "execution_count": 45,
   "id": "7306b6a19dea601c",
   "metadata": {
    "collapsed": true,
    "ExecuteTime": {
     "end_time": "2023-09-05T13:16:54.164396500Z",
     "start_time": "2023-09-05T13:16:17.741433100Z"
    }
   },
   "outputs": [
    {
     "name": "stdout",
     "output_type": "stream",
     "text": [
      "/cet6/2023-06/02\n",
      "/cet6/2023-06/03\n",
      "/cet6/2022-12/01\n",
      "/cet6/2022-12/02\n",
      "/cet6/2022-12/03\n",
      "/cet6/2022-06/01\n",
      "/cet6/2022-06/02\n",
      "/cet6/2022-06/03\n",
      "/cet6/2021-12/01\n",
      "/cet6/2021-12/02\n",
      "/cet6/2021-12/03\n",
      "/cet6/2021-06/01\n",
      "/cet6/2021-06/02\n",
      "/cet6/2021-06/03\n",
      "/cet6/2020-12/01\n",
      "/cet6/2020-12/02\n",
      "/cet6/2020-12/03\n",
      "/cet6/2020-09/01\n",
      "/cet6/2020-09/02\n",
      "/cet6/2020-07/01\n",
      "/cet6/2019-12/01\n",
      "/cet6/2019-12/02\n",
      "/cet6/2019-12/03\n",
      "/cet6/2019-06/01\n",
      "/cet6/2019-06/02\n",
      "/cet6/2019-06/03\n",
      "/cet6/2018-12/01\n",
      "/cet6/2018-12/02\n",
      "/cet6/2018-12/03\n",
      "/cet6/2018-06/01\n",
      "/cet6/2018-06/02\n",
      "/cet6/2018-06/03\n",
      "/cet6/2017-12/01\n",
      "/cet6/2017-12/02\n",
      "/cet6/2017-12/03\n",
      "/cet6/2017-06/01\n",
      "/cet6/2017-06/02\n",
      "/cet6/2017-06/03\n",
      "/cet6/2016-12/01\n",
      "/cet6/2016-12/02\n",
      "/cet6/2016-12/03\n",
      "/cet6/2016-06/01\n",
      "/cet6/2016-06/02\n",
      "/cet6/2016-06/03\n",
      "/cet6/2015-12/01\n",
      "/cet6/2015-12/02\n",
      "/cet6/2015-12/03\n",
      "/cet6/2015-06/01\n",
      "/cet6/2015-06/02\n",
      "/cet6/2015-06/03\n",
      "/cet6/2014-12/01\n",
      "/cet6/2014-12/02\n",
      "/cet6/2014-12/03\n",
      "/cet6/2014-06/01\n",
      "/cet6/2014-06/02\n",
      "/cet6/2014-06/03\n",
      "/cet6/2013-12/01\n",
      "/cet6/2013-12/02\n",
      "/cet6/2013-12/03\n",
      "/cet6/2013-06/01\n",
      "/cet6/2013-06/02\n",
      "/cet6/2012-12/01\n",
      "/cet6/2012-12/02\n",
      "/cet6/2012-12/03\n",
      "/cet6/2012-06/01\n"
     ]
    }
   ],
   "source": [
    "from urllib.request import Request,urlopen,urlretrieve\n",
    "import random\n",
    "import datetime\n",
    "from bs4 import BeautifulSoup\n",
    "import urllib3\n",
    "import requests,json,re\n",
    "url=r'https://zhenti.burningvocabulary.com/cet6'\n",
    "head={'user-agent':'Bilzzard'}\n",
    "html=urlopen(url)\n",
    "bs=BeautifulSoup(html,'html.parser')\n",
    "\n",
    "ID=[]\n",
    "urlList=[]\n",
    "nameList=[]\n",
    "pdfUrl=[]\n",
    "MP3Url=[]\n",
    "def Reverse(data):\n",
    "\n",
    "\n",
    "    # 解析JSON数据\n",
    "    parsed_data = json.loads(data[0])\n",
    "\n",
    "    # 提取f1和f2的元素并反向连接\n",
    "    a2_elements = parsed_data['a2']\n",
    "    a3_elements = parsed_data['a3']\n",
    "    \n",
    "    # 反向连接f1和f2的元素\n",
    "    reversed_string = ''.join(a3_elements[::-1] + a2_elements[::-1])\n",
    "    return reversed_string\n",
    "\n",
    "for web_url in bs.find_all('a',{'class':'link-primary'}):\n",
    "    \n",
    "    W='https://zhenti.burningvocabulary.com'+web_url.attrs['href']\n",
    "    time=web_url.attrs['href']\n",
    "    print(time)\n",
    "    \n",
    "    urlList.append(W)\n",
    "    h=urlopen(Request(W,headers=head))\n",
    "    bs=BeautifulSoup(h,'html.parser')\n",
    "    nameList.append(bs.find('meta',{'name':'twitter:title'}).attrs['content'])\n",
    "    response=requests.get(W,headers=head)\n",
    "    data=re.findall('\"an\":(\\{\"a2\":\\[.*?\\],\"a3\":\\[.*?\\]\\}),',response.text)\n",
    "    try:\n",
    "    \n",
    "        MP3Url.append(\"https://zhenti-res.youshaohua.com/images/read\"+time+'/'+Reverse(data)+'.mp3')\n",
    "    except IndexError:\n",
    "        pass\n",
    "# print(ID)\n",
    "# print(urlList)\n",
    "#print(nameList)\n",
    "#print(pdfUrl)\n",
    "#print(MP3Url)\n",
    "# for i in range(len(ID)):\n",
    "#     pdf_response = requests.get(url=pdfUrl[i], headers={\"User-Agent\": \"Mozilla/5.0 (Windows NT 10.0; Win64; x64) AppleWebKit/537.36 (KHTML, like Gecko) Chrome/107.0.0.0 Safari/537.36\"})\n",
    "# \n",
    "#     with open(\"CET6/\"+f'{nameList[i]}.pdf','wb')as  f:\n",
    "# \n",
    "#         f.write(pdf_response.content)"
   ]
  },
  {
   "cell_type": "markdown",
   "source": [
    "['{\"f1\":[\"3\",\"5\",\"7\",\"1\",\"5\",\"8\",\"7\",\"a\",\"e\",\"6\"],\"f2\":[\"5\",\"3\",\"8\",\"7\",\"f\",\"b\",\"d\",\"f\",\"2\",\"1\",\"1\",\"f\",\"b\",\"2\",\"5\",\"9\",\"9\",\"9\",\"a\",\"6\",\"2\",\"5\"]}']"
   ],
   "metadata": {
    "collapsed": false
   },
   "id": "c19815d75bcef93e"
  },
  {
   "cell_type": "code",
   "execution_count": null,
   "outputs": [],
   "source": [
    "\n",
    "\n",
    "for i in range(len(MP3Url)):\n",
    "    pdf_response = requests.get(url=MP3Url[i], headers={\"User-Agent\": \"Mozilla/5.0 (Windows NT 10.0; Win64; x64) AppleWebKit/537.36 (KHTML, like Gecko) Chrome/107.0.0.0 Safari/537.36\"})\n",
    "\n",
    "    with open(\"CET6/MP3/\"+f'{nameList[i]}.mp3','wb')as  f:\n",
    "\n",
    "        f.write(pdf_response.content)"
   ],
   "metadata": {
    "collapsed": false
   },
   "id": "initial_id"
  }
 ],
 "metadata": {
  "kernelspec": {
   "display_name": "Python 3",
   "language": "python",
   "name": "python3"
  },
  "language_info": {
   "codemirror_mode": {
    "name": "ipython",
    "version": 2
   },
   "file_extension": ".py",
   "mimetype": "text/x-python",
   "name": "python",
   "nbconvert_exporter": "python",
   "pygments_lexer": "ipython2",
   "version": "2.7.6"
  }
 },
 "nbformat": 4,
 "nbformat_minor": 5
}
